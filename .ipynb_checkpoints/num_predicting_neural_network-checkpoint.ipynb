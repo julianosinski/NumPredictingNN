{
 "cells": [
  {
   "cell_type": "code",
   "execution_count": 13,
   "id": "851ca4da",
   "metadata": {},
   "outputs": [],
   "source": [
    "import matplotlib.pyplot as plt\n",
    "import tensorflow as tf\n",
    "mnist = tf.keras.datasets.mnist #28x28 images of hand-wtitten digits 0-9\n",
    "(x_train, y_train), (x_test, y_test) = mnist.load_data()"
   ]
  },
  {
   "cell_type": "code",
   "execution_count": 14,
   "id": "22d02fcd",
   "metadata": {},
   "outputs": [],
   "source": [
    "#values of pixel in nubers images in dataset are between 0 and 255\n",
    "#we will normalized them to be between 1 and 0 so we can use them as input neurons \n",
    "x_train = tf.keras.utils.normalize(x_train, axis=1)\n",
    "x_test = tf.keras.utils.normalize(x_test, axis=1)\n",
    "#print(x_train[0])"
   ]
  },
  {
   "cell_type": "code",
   "execution_count": 15,
   "id": "9e15fba0",
   "metadata": {},
   "outputs": [],
   "source": [
    "model = tf.keras.models.Sequential()\n",
    "#adding layers to the model\n",
    "model.add(tf.keras.layers.Flatten()) #input layer (images are stored in multi damention array, we want to Flatten them to pass them as array of neurons\n",
    "# we will use 2 hidden layer\n",
    "model.add(tf.keras.layers.Dense(128,activation=tf.nn.relu))#activation function (line function for x>0), we could alsow use for example Sigmoid fuction\n",
    "model.add(tf.keras.layers.Dense(128,activation=tf.nn.relu))       \n",
    "model.add(tf.keras.layers.Dense(10,activation=tf.nn.softmax))#output layer, softmax activation function for probality distribution (similar to Sigmoid)"
   ]
  },
  {
   "cell_type": "code",
   "execution_count": 16,
   "id": "b361d7ad",
   "metadata": {},
   "outputs": [
    {
     "name": "stdout",
     "output_type": "stream",
     "text": [
      "Epoch 1/3\n",
      "1875/1875 [==============================] - 3s 1ms/step - loss: 0.2616 - accuracy: 0.9241\n",
      "Epoch 2/3\n",
      "1875/1875 [==============================] - 3s 1ms/step - loss: 0.1067 - accuracy: 0.9669\n",
      "Epoch 3/3\n",
      "1875/1875 [==============================] - 3s 1ms/step - loss: 0.0729 - accuracy: 0.9768\n"
     ]
    },
    {
     "data": {
      "text/plain": [
       "<keras.callbacks.History at 0x209705512d0>"
      ]
     },
     "execution_count": 16,
     "metadata": {},
     "output_type": "execute_result"
    }
   ],
   "source": [
    "#traing of the model\n",
    "\n",
    "#optimizer = chose the way of calculating vector that points in witch direction improve weight of conection between neurons\n",
    "#loss way of calculating function of cost\n",
    "model.compile(optimizer='adam',loss='sparse_categorical_crossentropy',metrics=['accuracy'])\n",
    "\n",
    "model.fit(x_train, y_train, epochs=3)"
   ]
  },
  {
   "cell_type": "code",
   "execution_count": 17,
   "id": "a5d8e9aa",
   "metadata": {
    "scrolled": true
   },
   "outputs": [
    {
     "name": "stdout",
     "output_type": "stream",
     "text": [
      "313/313 [==============================] - 0s 873us/step - loss: 0.0955 - accuracy: 0.9702\n",
      "0.09554189443588257 0.9702000021934509\n"
     ]
    }
   ],
   "source": [
    "val_loss, val_acc = model.evaluate(x_test,y_test)\n",
    "print(val_loss, val_acc)"
   ]
  },
  {
   "cell_type": "code",
   "execution_count": 18,
   "id": "8a8329ec",
   "metadata": {
    "scrolled": true
   },
   "outputs": [
    {
     "name": "stderr",
     "output_type": "stream",
     "text": [
      "WARNING:absl:Found untraced functions such as _update_step_xla while saving (showing 1 of 1). These functions will not be directly callable after loading.\n"
     ]
    },
    {
     "name": "stdout",
     "output_type": "stream",
     "text": [
      "INFO:tensorflow:Assets written to: num_read.model\\assets\n"
     ]
    },
    {
     "name": "stderr",
     "output_type": "stream",
     "text": [
      "INFO:tensorflow:Assets written to: num_read.model\\assets\n"
     ]
    }
   ],
   "source": [
    "model.save('num_read.model')\n"
   ]
  },
  {
   "cell_type": "code",
   "execution_count": 19,
   "id": "9659b41b",
   "metadata": {},
   "outputs": [],
   "source": [
    "new_model = tf.keras.models.load_model('num_read.model')"
   ]
  },
  {
   "cell_type": "code",
   "execution_count": 20,
   "id": "9d29ceeb",
   "metadata": {},
   "outputs": [
    {
     "name": "stdout",
     "output_type": "stream",
     "text": [
      "313/313 [==============================] - 0s 824us/step\n"
     ]
    }
   ],
   "source": [
    "predictions = new_model.predict([x_test])"
   ]
  },
  {
   "cell_type": "code",
   "execution_count": 23,
   "id": "8393fd52",
   "metadata": {},
   "outputs": [
    {
     "data": {
      "image/png": "[encoded data removed]",
      "text/plain": [
       "<Figure size 640x480 with 1 Axes>"
      ]
     },
     "metadata": {},
     "output_type": "display_data"
    },
    {
     "name": "stdout",
     "output_type": "stream",
     "text": [
      "prediction= 1\n"
     ]
    }
   ],
   "source": [
    "import numpy as np\n",
    "plt.imshow(x_test[5], cmap = plt.cm.binary)\n",
    "plt.show()\n",
    "print(\"prediction= \" + str(np.argmax(predictions[5])))"
   ]
  },
  {
   "cell_type": "code",
   "execution_count": null,
   "id": "be0b3f4e",
   "metadata": {},
   "outputs": [],
   "source": []
  }
 ],
 "metadata": {
  "kernelspec": {
   "display_name": "Python 3 (ipykernel)",
   "language": "python",
   "name": "python3"
  },
  "language_info": {
   "codemirror_mode": {
    "name": "ipython",
    "version": 3
   },
   "file_extension": ".py",
   "mimetype": "text/x-python",
   "name": "python",
   "nbconvert_exporter": "python",
   "pygments_lexer": "ipython3",
   "version": "3.10.9"
  }
 },
 "nbformat": 4,
 "nbformat_minor": 5
}
